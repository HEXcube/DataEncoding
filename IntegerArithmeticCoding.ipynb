{
 "cells": [
  {
   "cell_type": "code",
   "execution_count": null,
   "metadata": {},
   "outputs": [],
   "source": [
    "# Integer Arithmetic Coding\n",
    "\n",
    "This assignment implements integer arithmetic coding"
   ]
  },
  {
   "cell_type": "code",
   "execution_count": 3,
   "metadata": {},
   "outputs": [],
   "source": [
    "from collections import defaultdict\n",
    "from fractions import Fraction\n",
    "\n",
    "\n",
    "def build_prob(input_codes):\n",
    "    counts = defaultdict(int)\n",
    "\n",
    "    for code in input_codes:\n",
    "        counts[code] += 1\n",
    "\n",
    "    counts[256] = 1\n",
    "\n",
    "    output_prob = dict()\n",
    "    length = len(input_codes)\n",
    "    cumulative_count = 0\n",
    "\n",
    "    for code in sorted(counts, key=counts.get, reverse=True):\n",
    "        current_count = counts[code]\n",
    "        prob_pair = Fraction(cumulative_count, length), Fraction(current_count, length)\n",
    "        output_prob[code] = prob_pair\n",
    "        cumulative_count += current_count\n",
    "\n",
    "    return output_prob\n",
    "\n",
    "\n",
    "def encode_fraction_range(input_codes, input_prob):\n",
    "    start = Fraction(0, 1)\n",
    "    width = Fraction(1, 1)\n",
    "\n",
    "    for code in input_codes:\n",
    "        d_start, d_width = input_prob[code]\n",
    "        start += d_start * width\n",
    "        width *= d_width\n",
    "\n",
    "    return start, start + width\n",
    "\n",
    "\n",
    "def find_binary_fraction(input_start, input_end):\n",
    "    output_fraction = Fraction(0, 1)\n",
    "    output_denominator = 1\n",
    "\n",
    "    while not (input_start <= output_fraction < input_end):\n",
    "        output_numerator = 1 + ((input_start.numerator * output_denominator) // input_start.denominator)\n",
    "        output_fraction = Fraction(output_numerator, output_denominator)\n",
    "        output_denominator *= 2\n",
    "\n",
    "    return output_fraction\n",
    "\n",
    "\n",
    "def decode_fraction(input_fraction, input_prob):\n",
    "    output_codes = []\n",
    "    code = 257\n",
    "\n",
    "    while code != 256:\n",
    "        for code, (start, width) in input_prob.items():\n",
    "            if 0 <= (input_fraction - start) < width:\n",
    "                input_fraction = (input_fraction - start) / width\n",
    "\n",
    "                if code < 256:\n",
    "                    output_codes.append(code)\n",
    "                break\n",
    "\n",
    "    return ''.join([chr(code) for code in output_codes])\n"
   ]
  },
  {
   "cell_type": "code",
   "execution_count": 4,
   "metadata": {},
   "outputs": [
    {
     "name": "stdout",
     "output_type": "stream",
     "text": [
      "prob: {65: (Fraction(0, 1), Fraction(3, 7)), 78: (Fraction(3, 7), Fraction(2, 7)), 66: (Fraction(5, 7), Fraction(1, 7)), 256: (Fraction(6, 7), Fraction(1, 7))}\n",
      "len(prob): 4\n",
      "fraction_range: (Fraction(613148, 823543), Fraction(87608, 117649))\n",
      "decoded_fraction: 'BANANA'\n",
      "binary_fraction: Fraction(1525, 2048)\n",
      "decoded_binary_fraction: 'BANANA'\n"
     ]
    }
   ],
   "source": [
    "string = 'BANANA'\n",
    "codes = [ord(char) for char in string] + [256]\n",
    "\n",
    "prob = build_prob(codes)\n",
    "print('prob:', repr(prob))\n",
    "print('len(prob):', repr(len(prob)))\n",
    "\n",
    "fraction_range = encode_fraction_range(codes, prob)\n",
    "print('fraction_range:', repr(fraction_range))\n",
    "\n",
    "decoded_fraction = decode_fraction(fraction_range[0], prob)\n",
    "print('decoded_fraction:', repr(decoded_fraction))\n",
    "\n",
    "binary_fraction = find_binary_fraction(fraction_range[0], fraction_range[1])\n",
    "print('binary_fraction:', repr(binary_fraction))\n",
    "\n",
    "decoded_binary_fraction = decode_fraction(binary_fraction, prob)\n",
    "print('decoded_binary_fraction:', repr(decoded_binary_fraction))"
   ]
  },
  {
   "cell_type": "markdown",
   "metadata": {},
   "source": [
    "Derived from https://github.com/gw-c/arith"
   ]
  },
  {
   "cell_type": "code",
   "execution_count": null,
   "metadata": {},
   "outputs": [],
   "source": []
  }
 ],
 "metadata": {
  "kernelspec": {
   "display_name": "Python 3",
   "language": "python",
   "name": "python3"
  },
  "language_info": {
   "codemirror_mode": {
    "name": "ipython",
    "version": 3
   },
   "file_extension": ".py",
   "mimetype": "text/x-python",
   "name": "python",
   "nbconvert_exporter": "python",
   "pygments_lexer": "ipython3",
   "version": "3.6.7"
  }
 },
 "nbformat": 4,
 "nbformat_minor": 2
}
