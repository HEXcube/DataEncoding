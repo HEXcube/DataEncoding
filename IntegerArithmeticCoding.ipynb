{
  "nbformat": 4,
  "nbformat_minor": 0,
  "metadata": {
    "colab": {
      "name": "IntegerArithmeticCoding.ipynb",
      "version": "0.3.2",
      "provenance": []
    },
    "language_info": {
      "codemirror_mode": {
        "name": "ipython",
        "version": 3
      },
      "file_extension": ".py",
      "mimetype": "text/x-python",
      "name": "python",
      "nbconvert_exporter": "python",
      "pygments_lexer": "ipython3",
      "version": "3.6.7"
    },
    "kernelspec": {
      "display_name": "Python 3",
      "language": "python",
      "name": "python3"
    }
  },
  "cells": [
    {
      "metadata": {
        "id": "cQO8l3lulx4P",
        "colab_type": "text"
      },
      "cell_type": "markdown",
      "source": [
        "# Integer Arithmetic Coding\n",
        "\n",
        "This assignment implements integer arithmetic coding"
      ]
    },
    {
      "metadata": {
        "id": "ylVRNHAKluJr",
        "colab_type": "code",
        "colab": {}
      },
      "cell_type": "code",
      "source": [
        "from collections import defaultdict\n",
        "from fractions import Fraction\n",
        "\n",
        "\n",
        "def buildProbabilities(input_codes):\n",
        "    counts = defaultdict(int)\n",
        "\n",
        "    for code in input_codes:\n",
        "        counts[code] += 1\n",
        "\n",
        "    counts[256] = 1\n",
        "\n",
        "    output_prob = dict()\n",
        "    length = len(input_codes)\n",
        "    cumulative_count = 0\n",
        "\n",
        "    for code in sorted(counts, key=counts.get, reverse=True):\n",
        "        current_count = counts[code]\n",
        "        prob_pair = Fraction(cumulative_count, length), Fraction(current_count, length)\n",
        "        output_prob[code] = prob_pair\n",
        "        cumulative_count += current_count\n",
        "\n",
        "    return output_prob\n",
        "\n",
        "\n",
        "def encodeFractionRange(input_codes, input_prob):\n",
        "    start = Fraction(0, 1)\n",
        "    width = Fraction(1, 1)\n",
        "\n",
        "    for code in input_codes:\n",
        "        d_start, d_width = input_prob[code]\n",
        "        start += d_start * width\n",
        "        width *= d_width\n",
        "\n",
        "    return start, start + width\n",
        "\n",
        "def decodeFraction(input_fraction, input_prob):\n",
        "    output_codes = []\n",
        "    code = 257\n",
        "\n",
        "    while code != 256:\n",
        "        for code, (start, width) in input_prob.items():\n",
        "            if 0 <= (input_fraction - start) < width:\n",
        "                input_fraction = (input_fraction - start) / width\n",
        "\n",
        "                if code < 256:\n",
        "                    output_codes.append(code)\n",
        "                break\n",
        "\n",
        "    return ''.join([chr(code) for code in output_codes])\n"
      ],
      "execution_count": 0,
      "outputs": []
    },
    {
      "metadata": {
        "id": "W7KN-tIAluJu",
        "colab_type": "code",
        "colab": {
          "base_uri": "https://localhost:8080/",
          "height": 122
        },
        "outputId": "513de1d9-ab82-4889-d161-ffb7f83b689f"
      },
      "cell_type": "code",
      "source": [
        "string = 'METAL GEAR'\n",
        "codes = [ord(char) for char in string] + [256]\n",
        "print('Input string:', string)\n",
        "\n",
        "prob = buildProbabilities(codes)\n",
        "print('Generated probability list:', repr(prob))\n",
        "print('No of symbols in alphabet:', repr(len(prob)))\n",
        "\n",
        "fraction_range = encodeFractionRange(codes, prob)\n",
        "print('Fraction range:', repr(fraction_range))\n",
        "\n",
        "decoded_fraction = decodeFraction(fraction_range[0], prob)\n",
        "print('Decoded sequence:', repr(decoded_fraction))"
      ],
      "execution_count": 29,
      "outputs": [
        {
          "output_type": "stream",
          "text": [
            "Input string: METAL GEAR\n",
            "Generated probability list: {69: (Fraction(0, 1), Fraction(2, 11)), 65: (Fraction(2, 11), Fraction(2, 11)), 77: (Fraction(4, 11), Fraction(1, 11)), 84: (Fraction(5, 11), Fraction(1, 11)), 76: (Fraction(6, 11), Fraction(1, 11)), 32: (Fraction(7, 11), Fraction(1, 11)), 71: (Fraction(8, 11), Fraction(1, 11)), 82: (Fraction(9, 11), Fraction(1, 11)), 256: (Fraction(10, 11), Fraction(1, 11))}\n",
            "No of symbols in alphabet: 9\n",
            "Fraction range: (Fraction(106018734982, 285311670611), Fraction(9638066818, 25937424601))\n",
            "Decoded sequence: 'METAL GEAR'\n"
          ],
          "name": "stdout"
        }
      ]
    },
    {
      "metadata": {
        "id": "bs4OqI08luJ0",
        "colab_type": "text"
      },
      "cell_type": "markdown",
      "source": [
        "Derived from https://github.com/gw-c/arith"
      ]
    },
    {
      "metadata": {
        "id": "uSQJnY7nluJ0",
        "colab_type": "code",
        "colab": {}
      },
      "cell_type": "code",
      "source": [
        ""
      ],
      "execution_count": 0,
      "outputs": []
    }
  ]
}